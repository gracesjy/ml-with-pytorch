{
  "cells": [
    {
      "cell_type": "markdown",
      "metadata": {
        "tags": [],
        "id": "OTbdBP_bQZPZ"
      },
      "source": [
        "# 머신 러닝 교과서 - 파이토치편"
      ]
    },
    {
      "cell_type": "markdown",
      "metadata": {
        "id": "Bp_C5xwlQZPc"
      },
      "source": [
        "<table align=\"left\"><tr><td>\n",
        "<a href=\"https://colab.research.google.com/github/rickiepark/ml-with-pytorch/blob/main/ch01/ch01.ipynb\" target=\"_parent\"><img src=\"https://colab.research.google.com/assets/colab-badge.svg\" alt=\"코랩에서 실행하기\"/></a>\n",
        "</td></tr></table>"
      ]
    },
    {
      "cell_type": "markdown",
      "metadata": {
        "id": "wXaHitcGQZPd"
      },
      "source": [
        "## 패키지 버전 체크"
      ]
    },
    {
      "cell_type": "markdown",
      "metadata": {
        "id": "OnISOJ0-QZPd"
      },
      "source": [
        "check_packages.py 스크립트에서 로드하기 위해 폴더를 추가합니다:"
      ]
    },
    {
      "cell_type": "code",
      "execution_count": 1,
      "metadata": {
        "id": "qeP7ujRcQZPe",
        "outputId": "00053d65-aab6-4a8f-a5a8-b307193bf17a",
        "colab": {
          "base_uri": "https://localhost:8080/"
        }
      },
      "outputs": [
        {
          "output_type": "stream",
          "name": "stdout",
          "text": [
            "--2023-10-05 14:33:15--  https://raw.githubusercontent.com/rickiepark/ml-with-pytorch/main/python_environment_check.py\n",
            "Resolving raw.githubusercontent.com (raw.githubusercontent.com)... 185.199.109.133, 185.199.111.133, 185.199.108.133, ...\n",
            "Connecting to raw.githubusercontent.com (raw.githubusercontent.com)|185.199.109.133|:443... connected.\n",
            "HTTP request sent, awaiting response... 200 OK\n",
            "Length: 1629 (1.6K) [text/plain]\n",
            "Saving to: ‘python_environment_check.py’\n",
            "\n",
            "\r          python_en   0%[                    ]       0  --.-KB/s               \rpython_environment_ 100%[===================>]   1.59K  --.-KB/s    in 0s      \n",
            "\n",
            "2023-10-05 14:33:15 (20.3 MB/s) - ‘python_environment_check.py’ saved [1629/1629]\n",
            "\n"
          ]
        }
      ],
      "source": [
        "import sys\n",
        "\n",
        "# 코랩의 경우 깃허브 저장소로부터 python_environment_check.py를 다운로드 합니다.\n",
        "if 'google.colab' in sys.modules:\n",
        "    !wget https://raw.githubusercontent.com/rickiepark/ml-with-pytorch/main/python_environment_check.py\n",
        "else:\n",
        "    sys.path.insert(0, '..')"
      ]
    },
    {
      "cell_type": "markdown",
      "metadata": {
        "id": "GetqhrfgQZPf"
      },
      "source": [
        "권장 패키지 버전을 확인하세요:"
      ]
    },
    {
      "cell_type": "code",
      "execution_count": 2,
      "metadata": {
        "id": "rsVlJRwrQZPf",
        "outputId": "ba85c73a-7c32-431b-bcc5-568171518ad6",
        "colab": {
          "base_uri": "https://localhost:8080/"
        }
      },
      "outputs": [
        {
          "output_type": "stream",
          "name": "stdout",
          "text": [
            "[OK] Your Python version is 3.10.12 (main, Jun 11 2023, 05:26:28) [GCC 11.4.0]\n",
            "[OK] numpy 1.23.5\n",
            "[OK] scipy 1.11.3\n",
            "[OK] matplotlib 3.7.1\n",
            "[OK] sklearn 1.2.2\n",
            "[OK] pandas 1.5.3\n"
          ]
        }
      ],
      "source": [
        "from python_environment_check import check_packages\n",
        "\n",
        "\n",
        "d = {\n",
        "    'numpy': '1.21.2',\n",
        "    'scipy': '1.7.0',\n",
        "    'matplotlib': '3.4.3',\n",
        "    'sklearn': '1.0',\n",
        "    'pandas': '1.3.2'\n",
        "}\n",
        "check_packages(d)"
      ]
    },
    {
      "cell_type": "markdown",
      "metadata": {
        "id": "jIsVKWJJQZPg"
      },
      "source": [
        "# 1장 - 컴퓨터는 데이터에서 배운다"
      ]
    },
    {
      "cell_type": "markdown",
      "metadata": {
        "id": "TnOhnet-QZPh"
      },
      "source": [
        "### 목차"
      ]
    },
    {
      "cell_type": "markdown",
      "metadata": {
        "id": "FIan08U_QZPh"
      },
      "source": [
        "- 데이터를 지식으로 바꾸는 지능적인 시스템 구축\n",
        "- 머신 러닝의 세 가지 종류\n",
        "    - 지도 학습으로 미래 예측\n",
        "        - 분류: 클래스 레이블 예측\n",
        "        - 회귀: 연속적인 출력 값 예측\n",
        "    - 강화 학습으로 반응형 문제 해결\n",
        "    - 비지도 학습으로 숨겨진 구조 발견\n",
        "        - 군집: 서브그룹 찾기\n",
        "        - 차원 축소: 데이터 압축\n",
        "- 기본 용어와 표기법 소개\n",
        "    - 이 책에서 사용하는 표기법과 규칙\n",
        "    - 머신 러닝 용어\n",
        "- 머신 러닝 시스템 구축 로드맵\n",
        "    - 전처리: 데이터 형태 갖추기\n",
        "    - 예측 모델 훈련과 선택\n",
        "    - 모델을 평가하고 본 적 없는 샘플로 예측\n",
        "- 머신 러닝을 위한 파이썬\n",
        "    - 파이썬과 PIP에서 패키지 설치\n",
        "    - 아나콘다 파이썬 배포판과 패키지 관리자 사용\n",
        "    - 과학 컴퓨팅, 데이터 과학, 머신 러닝을 위한 패키지"
      ]
    },
    {
      "cell_type": "code",
      "execution_count": 3,
      "metadata": {
        "id": "iB2o7dH_QZPh"
      },
      "outputs": [],
      "source": [
        "from IPython.display import Image"
      ]
    },
    {
      "cell_type": "markdown",
      "metadata": {
        "id": "dLgwkISVQZPh"
      },
      "source": [
        "# 데이터를 지식으로 바꾸는 지능적인 시스템 구축"
      ]
    },
    {
      "cell_type": "markdown",
      "metadata": {
        "id": "JuNJvgSxQZPi"
      },
      "source": [
        "# 머신 러닝의 세 가지 종류\n"
      ]
    },
    {
      "cell_type": "code",
      "execution_count": 4,
      "metadata": {
        "id": "Wfs6LmgKQZPi",
        "outputId": "74354810-8f20-4c65-f433-a3067f7ae179",
        "colab": {
          "base_uri": "https://localhost:8080/",
          "height": 354
        }
      },
      "outputs": [
        {
          "output_type": "execute_result",
          "data": {
            "text/html": [
              "<img src=\"https://raw.githubusercontent.com/rickiepark/ml-with-pytorch/main/ch01/figures/01_01.png\" width=\"500\"/>"
            ],
            "text/plain": [
              "<IPython.core.display.Image object>"
            ]
          },
          "metadata": {},
          "execution_count": 4
        }
      ],
      "source": [
        "Image(url='https://raw.githubusercontent.com/rickiepark/ml-with-pytorch/main/ch01/figures/01_01.png', width=500)"
      ]
    },
    {
      "cell_type": "markdown",
      "metadata": {
        "id": "lxi8EXVRQZPi"
      },
      "source": [
        "## 지도 학습으로 미래 예측\n"
      ]
    },
    {
      "cell_type": "code",
      "execution_count": 5,
      "metadata": {
        "id": "SMLK6PIbQZPi",
        "outputId": "c43c2add-e989-42a3-836c-710293c3b309",
        "colab": {
          "base_uri": "https://localhost:8080/",
          "height": 324
        }
      },
      "outputs": [
        {
          "output_type": "execute_result",
          "data": {
            "text/html": [
              "<img src=\"https://raw.githubusercontent.com/rickiepark/ml-with-pytorch/main/ch01/figures/01_02.png\" width=\"500\"/>"
            ],
            "text/plain": [
              "<IPython.core.display.Image object>"
            ]
          },
          "metadata": {},
          "execution_count": 5
        }
      ],
      "source": [
        "Image(url='https://raw.githubusercontent.com/rickiepark/ml-with-pytorch/main/ch01/figures/01_02.png', width=500)"
      ]
    },
    {
      "cell_type": "markdown",
      "metadata": {
        "id": "Ajs4VRSGQZPj"
      },
      "source": [
        "### 분류: 클래스 레이블 예측"
      ]
    },
    {
      "cell_type": "code",
      "execution_count": 6,
      "metadata": {
        "id": "rSyt2UM1QZPj",
        "outputId": "37a3791e-b87f-49f9-ce97-267b75fa918b",
        "colab": {
          "base_uri": "https://localhost:8080/",
          "height": 334
        }
      },
      "outputs": [
        {
          "output_type": "execute_result",
          "data": {
            "text/html": [
              "<img src=\"https://raw.githubusercontent.com/rickiepark/ml-with-pytorch/main/ch01/figures/01_03.png\" width=\"300\"/>"
            ],
            "text/plain": [
              "<IPython.core.display.Image object>"
            ]
          },
          "metadata": {},
          "execution_count": 6
        }
      ],
      "source": [
        "Image(url='https://raw.githubusercontent.com/rickiepark/ml-with-pytorch/main/ch01/figures/01_03.png', width=300)"
      ]
    },
    {
      "cell_type": "markdown",
      "metadata": {
        "id": "ihCqmShNQZPj"
      },
      "source": [
        "### 회귀: 연속적인 출력 값 예측"
      ]
    },
    {
      "cell_type": "code",
      "execution_count": 7,
      "metadata": {
        "id": "o_BTodYsQZPj",
        "outputId": "31d4bd66-5858-4495-8825-aa007453a63f",
        "colab": {
          "base_uri": "https://localhost:8080/",
          "height": 317
        }
      },
      "outputs": [
        {
          "output_type": "execute_result",
          "data": {
            "text/html": [
              "<img src=\"https://raw.githubusercontent.com/rickiepark/ml-with-pytorch/main/ch01/figures/01_04.png\" width=\"300\"/>"
            ],
            "text/plain": [
              "<IPython.core.display.Image object>"
            ]
          },
          "metadata": {},
          "execution_count": 7
        }
      ],
      "source": [
        "Image(url='https://raw.githubusercontent.com/rickiepark/ml-with-pytorch/main/ch01/figures/01_04.png', width=300)"
      ]
    },
    {
      "cell_type": "markdown",
      "metadata": {
        "id": "u2gYx4lAQZPj"
      },
      "source": [
        "## 강화 학습으로 반응형 문제 해결\n"
      ]
    },
    {
      "cell_type": "code",
      "execution_count": 8,
      "metadata": {
        "id": "mJocxioYQZPk",
        "outputId": "16300d31-a961-4187-af9a-368c0a34e41c",
        "colab": {
          "base_uri": "https://localhost:8080/",
          "height": 179
        }
      },
      "outputs": [
        {
          "output_type": "execute_result",
          "data": {
            "text/html": [
              "<img src=\"https://raw.githubusercontent.com/rickiepark/ml-with-pytorch/main/ch01/figures/01_05.png\" width=\"300\"/>"
            ],
            "text/plain": [
              "<IPython.core.display.Image object>"
            ]
          },
          "metadata": {},
          "execution_count": 8
        }
      ],
      "source": [
        "Image(url='https://raw.githubusercontent.com/rickiepark/ml-with-pytorch/main/ch01/figures/01_05.png', width=300)"
      ]
    },
    {
      "cell_type": "markdown",
      "metadata": {
        "id": "pH-BkuicQZPk"
      },
      "source": [
        "## 비지도 학습으로 숨겨진 구조 발견\n"
      ]
    },
    {
      "cell_type": "markdown",
      "metadata": {
        "id": "go3FeagHQZPk"
      },
      "source": [
        "### 군집: 서브그룹 찾기\n"
      ]
    },
    {
      "cell_type": "code",
      "execution_count": 9,
      "metadata": {
        "id": "cQWy0j1dQZPk",
        "outputId": "cd12dd82-a3b0-4971-e1f4-d92b6011277a",
        "colab": {
          "base_uri": "https://localhost:8080/",
          "height": 305
        }
      },
      "outputs": [
        {
          "output_type": "execute_result",
          "data": {
            "text/html": [
              "<img src=\"https://raw.githubusercontent.com/rickiepark/ml-with-pytorch/main/ch01/figures/01_06.png\" width=\"300\"/>"
            ],
            "text/plain": [
              "<IPython.core.display.Image object>"
            ]
          },
          "metadata": {},
          "execution_count": 9
        }
      ],
      "source": [
        "Image(url='https://raw.githubusercontent.com/rickiepark/ml-with-pytorch/main/ch01/figures/01_06.png', width=300)"
      ]
    },
    {
      "cell_type": "markdown",
      "metadata": {
        "id": "prjmvwCKQZPk"
      },
      "source": [
        "### 차원 축소: 데이터 압축\n"
      ]
    },
    {
      "cell_type": "code",
      "execution_count": 10,
      "metadata": {
        "id": "DcYMQhybQZPl",
        "outputId": "42d4f3e9-7139-4d6b-ed9a-9a42fde831d1",
        "colab": {
          "base_uri": "https://localhost:8080/",
          "height": 225
        }
      },
      "outputs": [
        {
          "output_type": "execute_result",
          "data": {
            "text/html": [
              "<img src=\"https://raw.githubusercontent.com/rickiepark/ml-with-pytorch/main/ch01/figures/01_07.png\" width=\"500\"/>"
            ],
            "text/plain": [
              "<IPython.core.display.Image object>"
            ]
          },
          "metadata": {},
          "execution_count": 10
        }
      ],
      "source": [
        "Image(url='https://raw.githubusercontent.com/rickiepark/ml-with-pytorch/main/ch01/figures/01_07.png', width=500)"
      ]
    },
    {
      "cell_type": "markdown",
      "metadata": {
        "id": "MThtHBqfQZPl"
      },
      "source": [
        "# 기본 용어와 표기법 소개"
      ]
    },
    {
      "cell_type": "code",
      "execution_count": 11,
      "metadata": {
        "id": "Ph9rKxrFQZPl",
        "outputId": "055d0d0e-af6d-44af-ce74-b95ef3ea9090",
        "colab": {
          "base_uri": "https://localhost:8080/",
          "height": 376
        }
      },
      "outputs": [
        {
          "output_type": "execute_result",
          "data": {
            "text/html": [
              "<img src=\"https://raw.githubusercontent.com/rickiepark/ml-with-pytorch/main/ch01/figures/01_08.png\" width=\"500\"/>"
            ],
            "text/plain": [
              "<IPython.core.display.Image object>"
            ]
          },
          "metadata": {},
          "execution_count": 11
        }
      ],
      "source": [
        "Image(url='https://raw.githubusercontent.com/rickiepark/ml-with-pytorch/main/ch01/figures/01_08.png', width=500)"
      ]
    },
    {
      "cell_type": "markdown",
      "metadata": {
        "id": "pJZTOjJeQZPl"
      },
      "source": [
        "# 머신 러닝 시스템 구축 로드맵\n"
      ]
    },
    {
      "cell_type": "code",
      "execution_count": 12,
      "metadata": {
        "id": "IC52R7KCQZPl",
        "outputId": "d6f5c298-2a85-4884-c348-feb2c8a172ac",
        "colab": {
          "base_uri": "https://localhost:8080/",
          "height": 550
        }
      },
      "outputs": [
        {
          "output_type": "execute_result",
          "data": {
            "text/html": [
              "<img src=\"https://raw.githubusercontent.com/rickiepark/ml-with-pytorch/main/ch01/figures/01_09.png\" width=\"700\"/>"
            ],
            "text/plain": [
              "<IPython.core.display.Image object>"
            ]
          },
          "metadata": {},
          "execution_count": 12
        }
      ],
      "source": [
        "Image(url='https://raw.githubusercontent.com/rickiepark/ml-with-pytorch/main/ch01/figures/01_09.png', width=700)"
      ]
    },
    {
      "cell_type": "markdown",
      "metadata": {
        "id": "DMslMu2nQZPm"
      },
      "source": [
        "## 전처리: 데이터 형태 갖추기\n"
      ]
    },
    {
      "cell_type": "markdown",
      "metadata": {
        "id": "GCnYSjjXQZPm"
      },
      "source": [
        "## 예측 모델 훈련과 선택\n"
      ]
    },
    {
      "cell_type": "markdown",
      "metadata": {
        "id": "tp1Bgy3_QZPm"
      },
      "source": [
        "## 모델을 평가하고 본 적 없는 샘플로 예측\n"
      ]
    },
    {
      "cell_type": "markdown",
      "metadata": {
        "id": "kuNrLAkIQZPm"
      },
      "source": [
        "# 머신 러닝을 위한 파이썬\n"
      ]
    },
    {
      "cell_type": "markdown",
      "metadata": {
        "id": "-STE4NCvQZPm"
      },
      "source": [
        "## 파이썬과 PIP에서 패키지 설치\n",
        "## 아나콘다 파이썬 배포판과 패키지 관리자 사용\n",
        "## 과학 컴퓨팅, 데이터 과학, 머신 러닝을 위한 패키지"
      ]
    },
    {
      "cell_type": "markdown",
      "metadata": {
        "id": "f-4P4leFQZPm"
      },
      "source": [
        "# 요약"
      ]
    }
  ],
  "metadata": {
    "anaconda-cloud": {},
    "kernelspec": {
      "display_name": "Python 3 (ipykernel)",
      "language": "python",
      "name": "python3"
    },
    "language_info": {
      "codemirror_mode": {
        "name": "ipython",
        "version": 3
      },
      "file_extension": ".py",
      "mimetype": "text/x-python",
      "name": "python",
      "nbconvert_exporter": "python",
      "pygments_lexer": "ipython3",
      "version": "3.9.13"
    },
    "colab": {
      "provenance": []
    }
  },
  "nbformat": 4,
  "nbformat_minor": 0
}